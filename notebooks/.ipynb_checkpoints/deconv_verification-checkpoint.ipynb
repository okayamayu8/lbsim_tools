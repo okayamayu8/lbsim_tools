{
 "cells": [
  {
   "cell_type": "markdown",
   "id": "f19f1bd3-72a9-45fa-87f5-36dc3403f8b8",
   "metadata": {},
   "source": [
    "# Alm-space deconvolution\n",
    "## FGBuster requests the frequency maps which is not convolved by the beams. In order to use the FGBuster we need to deconvolve the maps. This notebook will introduce the function that provide deconvolution by the Gaussian beam and its verifications. "
   ]
  },
  {
   "cell_type": "code",
   "execution_count": 4,
   "id": "48dd7eca-4712-4766-bd28-28cbc7d5e221",
   "metadata": {},
   "outputs": [],
   "source": [
    "import healpy as hp\n",
    "import numpy as np\n",
    "import matplotlib.pylab as plt\n",
    "\n",
    "def deconvolution(maps, fwhm, cut_off=191):\n",
    "    \"\"\"\n",
    "    Deconvolve a set of input maps using a Gaussian beam.\n",
    "\n",
    "    This function takes input maps, a Full Width at Half Maximum (FWHM) value\n",
    "    for the Gaussian beam, and an optional cut-off multipole value. It performs\n",
    "    deconvolution on the input maps using the specified Gaussian beam, up to the\n",
    "    given cut-off multipole if provided.\n",
    "\n",
    "    Parameters:\n",
    "    -----------\n",
    "        maps (array-like)      : Input maps to be deconvolved. If maps.shape is (3, npix),\n",
    "                                 it's assumed to be a set of polarized maps for each Stokes parameter.\n",
    "                                 Otherwise, it's assumed to be an temperature map.\n",
    "        fwhm (float)           : Full Width at Half Maximum (FWHM) value of the Gaussian beam in radians.\n",
    "        cut_off (int, optional): Cut-off multipole value. Multipole values above this cut-off\n",
    "                                 will not be deconvolved. Default is 191 which was used in PTEP in the likelihood function.\n",
    "\n",
    "    Returns:\n",
    "    --------\n",
    "        array-like             : Deconvolved maps after applying the Gaussian beam correction.\n",
    "                                 The shape of the output maps will match the shape of the input maps.\n",
    "\n",
    "    Note:\n",
    "    -----\n",
    "        The function internally uses the HEALPix library for spherical harmonic transformations.\n",
    "    \"\"\"\n",
    "    nside = hp.get_nside(maps)\n",
    "    npix  = hp.nside2npix(nside)\n",
    "    lmax  = 3*nside - 1\n",
    "    alm   = hp.map2alm(maps, use_weights=True)\n",
    "    if maps.shape == (3, npix):\n",
    "        bl         = hp.gauss_beam(fwhm=fwhm,lmax=lmax,pol=True)\n",
    "        alm_deconv = np.zeros(alm.shape, dtype=complex)\n",
    "        for m in range(lmax+1):\n",
    "            for i in range(lmax-m+1):\n",
    "                l = i + m\n",
    "                if l <= cut_off:\n",
    "                    idx = hp.Alm.getidx(lmax, l, m)\n",
    "                    for stokes in range(3):\n",
    "                        alm_deconv[stokes, idx] = alm[stokes,idx]/bl[l,stokes]\n",
    "                else: \n",
    "                    for stokes in range(3):\n",
    "                        alm_deconv[stokes, idx] = 0.0\n",
    "    else:\n",
    "        bl    = hp.gauss_beam(fwhm=fwhm,lmax=lmax,pol=False)\n",
    "        alm_deconv = np.zeros(len(alm), dtype=complex)\n",
    "        for m in range(lmax+1):\n",
    "            idx1 = hp.Alm.getidx(lmax, m, m)\n",
    "            idx2 = hp.Alm.getidx(lmax, lmax, m)\n",
    "            alm_deconv[idx1:idx2+1] = alm[idx1:idx2+1] / bl[m:lmax+1]\n",
    "        \n",
    "    return hp.alm2map(alm_deconv, nside)"
   ]
  },
  {
   "cell_type": "markdown",
   "id": "257601e1-8535-4c4b-9962-e4c207b3cec6",
   "metadata": {},
   "source": [
    "# Verification of cutting the multipole $\\ell$ in the deconvolution"
   ]
  },
  {
   "cell_type": "code",
   "execution_count": null,
   "id": "3ac02575-0a2b-48af-85f8-c57ca760da6d",
   "metadata": {},
   "outputs": [
    {
     "name": "stdout",
     "output_type": "stream",
     "text": [
      "cut_off: 100\n",
      "cut_off: 500\n"
     ]
    }
   ],
   "source": [
    "nside          = 512\n",
    "lmax           = 3*nside-1\n",
    "path           = \"./simple_model_spectrum.npz\"\n",
    "inputcl        = np.load(path)\n",
    "inputcl        = inputcl[\"total\"].T\n",
    "fwhm           = np.deg2rad(0.5)\n",
    "N              = 1\n",
    "cut_off        = np.arange(100, lmax, 400)\n",
    "inputmap       = hp.synfast(inputcl, nside, new=True)\n",
    "cl_list        = []\n",
    "rescl_list     = []\n",
    "\n",
    "for i in cut_off:\n",
    "    print(\"cut_off:\", i)    \n",
    "    smsmap     = hp.smoothing(inputmap, fwhm=fwhm, use_weights=True)\n",
    "    deconv_map = deconvolution(smsmap, fwhm, cut_off=i)\n",
    "    resmap     = inputmap - deconv_map\n",
    "    deconv_cl  = hp.anafast(deconv_map)\n",
    "    res_cl  = hp.anafast(resmap)\n",
    "    cl_list.append(deconv_cl)\n",
    "    rescl_list.append(res_cl)"
   ]
  },
  {
   "cell_type": "markdown",
   "id": "229d9d38-37c1-40c9-9179-bd97510b7cfc",
   "metadata": {},
   "source": [
    "# You can see the tail in the high ell at $\\ell_{cut}=1300$. \n",
    "## This happens because when $a_{\\ell m}$ is divided into $b_\\ell$ inside the function, the numerical precision of $b_\\ell$ with very small values in high-$\\ell$ breaks down. In order to avoid this, the calculation must be terminated at ell up to the range where the calculation accuracy is maintained. In this function, the value of $b_\\ell$ below $\\ell_{cut}$ has a value, but for higher-$\\ell$, $b_\\ell=0$ and convolution is performed."
   ]
  },
  {
   "cell_type": "code",
   "execution_count": null,
   "id": "d0fcc92f-4766-42b1-a257-35d503e24e59",
   "metadata": {},
   "outputs": [],
   "source": [
    "plt.rcParams.update({'font.size': 20})\n",
    "plt.figure(figsize=(20,15))\n",
    "stokes = 2\n",
    "plt.loglog(inputcl[stokes,:], label=\"Fiducial B-mode\", color=\"black\")\n",
    "jet_colors = plt.cm.jet(np.linspace(0, 1, len(cl_list)))\n",
    "for i, cl in enumerate(cl_list):\n",
    "    plt.loglog(cl[stokes, :], color=jet_colors[i], label=\"$\\ell_{cut}=$\"+str(cut_off[i]), alpha=0.5)\n",
    "plt.legend()\n",
    "plt.xlabel(\"$\\ell$\")\n",
    "plt.ylabel(\"$C_\\ell$ [$\\mu K^2$]\")"
   ]
  },
  {
   "cell_type": "markdown",
   "id": "881e1bb1-133c-49a2-b741-ed4fb6a6c28f",
   "metadata": {},
   "source": [
    "## We can see $\\ell_{cut}=900,1300$ have a tail in residual map's power spectrum. It is not preferavle. $\\ell_{cut}$ lee than 500, the residual power spectra look flat. So we conclude $\\ell_{max}=191$ which is used in PTEP likelihood is can be used for $\\ell_{cut}$."
   ]
  },
  {
   "cell_type": "code",
   "execution_count": null,
   "id": "2f2f4b29-190a-4bf5-9c97-ab90462cb592",
   "metadata": {},
   "outputs": [],
   "source": [
    "plt.rcParams.update({'font.size': 20})\n",
    "plt.figure(figsize=(20,15))\n",
    "stokes = 2\n",
    "plt.loglog(inputcl[stokes,:], label=\"Fiducial B-mode\", color=\"black\")\n",
    "jet_colors = plt.cm.jet(np.linspace(0, 1, len(cl_list)))\n",
    "for i, cl in enumerate(rescl_list):\n",
    "    plt.loglog(cl[stokes, :cut_off[i]], color=jet_colors[i], label=\"$\\ell_{cut}=$\"+str(cut_off[i]), alpha=0.5)\n",
    "plt.legend()\n",
    "plt.xlabel(\"$\\ell$\")\n",
    "plt.ylabel(\"$C_\\ell$ [$\\mu K^2$]\")"
   ]
  },
  {
   "cell_type": "code",
   "execution_count": null,
   "id": "a8c71cb7-f6ba-42ca-9c91-908e29e5568c",
   "metadata": {},
   "outputs": [],
   "source": []
  }
 ],
 "metadata": {
  "kernelspec": {
   "display_name": "lbs_env",
   "language": "python",
   "name": "lbs_env"
  },
  "language_info": {
   "codemirror_mode": {
    "name": "ipython",
    "version": 3
   },
   "file_extension": ".py",
   "mimetype": "text/x-python",
   "name": "python",
   "nbconvert_exporter": "python",
   "pygments_lexer": "ipython3",
   "version": "3.9.17"
  }
 },
 "nbformat": 4,
 "nbformat_minor": 5
}
